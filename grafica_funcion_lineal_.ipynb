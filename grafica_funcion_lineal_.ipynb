{
  "nbformat": 4,
  "nbformat_minor": 0,
  "metadata": {
    "colab": {
      "provenance": [],
      "authorship_tag": "ABX9TyM8gpP7H2261QkQZ0oW6I6x",
      "include_colab_link": true
    },
    "kernelspec": {
      "name": "python3",
      "display_name": "Python 3"
    },
    "language_info": {
      "name": "python"
    }
  },
  "cells": [
    {
      "cell_type": "markdown",
      "metadata": {
        "id": "view-in-github",
        "colab_type": "text"
      },
      "source": [
        "<a href=\"https://colab.research.google.com/github/angelica17200/grafica_funcion_lineal/blob/main/grafica_funcion_lineal_.ipynb\" target=\"_parent\"><img src=\"https://colab.research.google.com/assets/colab-badge.svg\" alt=\"Open In Colab\"/></a>"
      ]
    },
    {
      "cell_type": "markdown",
      "source": [
        "Grafica funcion lineal "
      ],
      "metadata": {
        "id": "B1mRiKPhfGPU"
      }
    },
    {
      "cell_type": "code",
      "source": [
        "# importamos las librerias numpy y matplotlib y le asignamos un alias.\n",
        "\n",
        "import numpy as np \n",
        "import matplotlib.pyplot as plt \n"
      ],
      "metadata": {
        "id": "jZSZuTPYfJRb"
      },
      "execution_count": 9,
      "outputs": []
    },
    {
      "cell_type": "code",
      "source": [
        "# # programa para grficar una linea recta, con base en la ecuacion y = mx +b \n",
        "# mes la pendienre de la recta \n",
        "# b es el punto de corte con elpie con el eje y \n",
        "\n",
        "# numero de puntos a grficar \n",
        "N = 100\n",
        "\n",
        "# funcion para calcular los valores de y \n",
        "def funcion_lineal(m,x,b):\n",
        "  return m*x + b\n",
        "\n",
        "#input \n",
        "print(\"-------------------------\")\n",
        "print(\"----FUNCION LINEAL-------\")\n",
        "print(\"-----y = mx + b----------\")\n",
        "print(\"-------------------------\")\n",
        "\n",
        "m = int(input(\"Digite el valor de la pendiente: \"))\n",
        "b = int(input(\"Digite el valor del punto de corte con el eje y : \"))\n",
        "\n",
        "#processing  - graphication\n",
        "x = np.linspace(-10, 10, num = N)\n",
        "y = funcion_lineal(m,x,b)\n",
        "\n",
        "plt.plot(x,y, color = 'r')\n",
        "plt.xlabel('x')\n",
        "plt.ylabel('y')\n",
        "plt.title('Funcion lineal')\n",
        "plt.grid()\n",
        "plt.axhline(y=0,  color = 'b')\n",
        "plt.axvline(x=0,  color = 'b')\n",
        "plt.show()\n",
        "plt.savefig('funcion_lineal.png')"
      ],
      "metadata": {
        "colab": {
          "base_uri": "https://localhost:8080/",
          "height": 424
        },
        "id": "AaenlZsKfc3Y",
        "outputId": "8f2ade6c-5abd-4e31-df8c-9ce40536c7ed"
      },
      "execution_count": 13,
      "outputs": [
        {
          "name": "stdout",
          "output_type": "stream",
          "text": [
            "-------------------------\n",
            "----FUNCION LINEAL-------\n",
            "-----y = mx + b----------\n",
            "-------------------------\n",
            "Digite el valor de la pendiente: 1\n",
            "Digite el valor del punto de corte con el eje y : 10\n"
          ]
        },
        {
          "output_type": "display_data",
          "data": {
            "text/plain": [
              "<Figure size 432x288 with 1 Axes>"
            ],
            "image/png": "[encoded data removed]"
          },
          "metadata": {
            "needs_background": "light"
          }
        },
        {
          "output_type": "display_data",
          "data": {
            "text/plain": [
              "<Figure size 432x288 with 0 Axes>"
            ]
          },
          "metadata": {}
        }
      ]
    },
    {
      "cell_type": "code",
      "source": [],
      "metadata": {
        "id": "A2dy3e_8taKo"
      },
      "execution_count": null,
      "outputs": []
    }
  ]
}